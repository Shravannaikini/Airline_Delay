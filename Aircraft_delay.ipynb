{
  "nbformat": 4,
  "nbformat_minor": 0,
  "metadata": {
    "colab": {
      "name": "Aircraft_delay.ipynb",
      "provenance": [],
      "collapsed_sections": []
    },
    "kernelspec": {
      "name": "python3",
      "display_name": "Python 3"
    }
  },
  "cells": [
    {
      "cell_type": "markdown",
      "metadata": {
        "id": "kPsAI3aEfntT",
        "colab_type": "text"
      },
      "source": [
        "**Regression Analysis of Aircrafts delay**"
      ]
    },
    {
      "cell_type": "code",
      "metadata": {
        "id": "mcXKXvCB2DiO",
        "colab_type": "code",
        "outputId": "55fedcf9-ccc6-4176-b309-cc133bdc5710",
        "colab": {
          "base_uri": "https://localhost:8080/",
          "height": 293
        }
      },
      "source": [
        "#importing pandas library\n",
        "import pandas as pd\n",
        "\n",
        "Air_delay = pd.read_csv('/content/DelayedFlights.csv')\n",
        "\n",
        "print(Air_delay.head())\n",
        "print(Air_delay.columns)\n",
        "\n",
        "\n"
      ],
      "execution_count": 0,
      "outputs": [
        {
          "output_type": "stream",
          "text": [
            "   Unnamed: 0  Year  Month  ...  NASDelay  SecurityDelay  LateAircraftDelay\n",
            "0           0  2008      1  ...       NaN            NaN                NaN\n",
            "1           1  2008      1  ...       NaN            NaN                NaN\n",
            "2           2  2008      1  ...       NaN            NaN                NaN\n",
            "3           4  2008      1  ...       0.0            0.0               32.0\n",
            "4           5  2008      1  ...       NaN            NaN                NaN\n",
            "\n",
            "[5 rows x 30 columns]\n",
            "Index(['Unnamed: 0', 'Year', 'Month', 'DayofMonth', 'DayOfWeek', 'DepTime',\n",
            "       'CRSDepTime', 'ArrTime', 'CRSArrTime', 'UniqueCarrier', 'FlightNum',\n",
            "       'TailNum', 'ActualElapsedTime', 'CRSElapsedTime', 'AirTime', 'ArrDelay',\n",
            "       'DepDelay', 'Origin', 'Dest', 'Distance', 'TaxiIn', 'TaxiOut',\n",
            "       'Cancelled', 'CancellationCode', 'Diverted', 'CarrierDelay',\n",
            "       'WeatherDelay', 'NASDelay', 'SecurityDelay', 'LateAircraftDelay'],\n",
            "      dtype='object')\n"
          ],
          "name": "stdout"
        }
      ]
    },
    {
      "cell_type": "markdown",
      "metadata": {
        "id": "SX9glnLmfwfv",
        "colab_type": "text"
      },
      "source": [
        "**Statistical summary & data types information of the Aircrafts dataset**"
      ]
    },
    {
      "cell_type": "code",
      "metadata": {
        "id": "c6n2LKsyGkMY",
        "colab_type": "code",
        "outputId": "26391756-e4c6-4b7d-a587-48c4e9f41cd3",
        "colab": {
          "base_uri": "https://localhost:8080/",
          "height": 880
        }
      },
      "source": [
        "print(Air_delay.describe())\n",
        "print(Air_delay.info())"
      ],
      "execution_count": 0,
      "outputs": [
        {
          "output_type": "stream",
          "text": [
            "          Unnamed: 0     Year  ...  SecurityDelay  LateAircraftDelay\n",
            "count   82905.000000  82905.0  ...   54994.000000       54994.000000\n",
            "mean   131835.084579   2008.0  ...       0.107739          28.301651\n",
            "std     78916.414966      0.0  ...       1.908613          44.706411\n",
            "min         0.000000   2008.0  ...       0.000000           0.000000\n",
            "25%     64303.000000   2008.0  ...       0.000000           0.000000\n",
            "50%    130437.000000   2008.0  ...       0.000000          11.000000\n",
            "75%    204510.000000   2008.0  ...       0.000000          38.000000\n",
            "max    259896.000000   2008.0  ...     136.000000         799.000000\n",
            "\n",
            "[8 rows x 25 columns]\n",
            "<class 'pandas.core.frame.DataFrame'>\n",
            "RangeIndex: 82905 entries, 0 to 82904\n",
            "Data columns (total 30 columns):\n",
            "Unnamed: 0           82905 non-null int64\n",
            "Year                 82905 non-null int64\n",
            "Month                82905 non-null int64\n",
            "DayofMonth           82905 non-null int64\n",
            "DayOfWeek            82905 non-null int64\n",
            "DepTime              82905 non-null float64\n",
            "CRSDepTime           82905 non-null int64\n",
            "ArrTime              82629 non-null float64\n",
            "CRSArrTime           82905 non-null int64\n",
            "UniqueCarrier        82905 non-null object\n",
            "FlightNum            82905 non-null int64\n",
            "TailNum              82905 non-null object\n",
            "ActualElapsedTime    82628 non-null float64\n",
            "CRSElapsedTime       82904 non-null float64\n",
            "AirTime              82628 non-null float64\n",
            "ArrDelay             82628 non-null float64\n",
            "DepDelay             82904 non-null float64\n",
            "Origin               82904 non-null object\n",
            "Dest                 82904 non-null object\n",
            "Distance             82904 non-null float64\n",
            "TaxiIn               82628 non-null float64\n",
            "TaxiOut              82904 non-null float64\n",
            "Cancelled            82904 non-null float64\n",
            "CancellationCode     82904 non-null object\n",
            "Diverted             82904 non-null float64\n",
            "CarrierDelay         54994 non-null float64\n",
            "WeatherDelay         54994 non-null float64\n",
            "NASDelay             54994 non-null float64\n",
            "SecurityDelay        54994 non-null float64\n",
            "LateAircraftDelay    54994 non-null float64\n",
            "dtypes: float64(17), int64(8), object(5)\n",
            "memory usage: 19.0+ MB\n",
            "None\n"
          ],
          "name": "stdout"
        }
      ]
    },
    {
      "cell_type": "markdown",
      "metadata": {
        "id": "u5D9sEsKgC08",
        "colab_type": "text"
      },
      "source": [
        "**Preprocessing Part 1: Handling missing values**"
      ]
    },
    {
      "cell_type": "code",
      "metadata": {
        "id": "qom_22G0HTr_",
        "colab_type": "code",
        "outputId": "c1d3e931-3d9d-489c-da91-32b690beda87",
        "colab": {
          "base_uri": "https://localhost:8080/",
          "height": 35
        }
      },
      "source": [
        "#as there are number of missing values in the data. we have to fill them by using \n",
        "#one of the filling methods\n",
        "\n",
        "Air_delay.fillna(Air_delay.mean(), inplace = True)\n",
        "\n",
        "#inspection of further missing values\n",
        "\n",
        "print(\"there are \"+ str(Air_delay.isnull().values.sum())+\" missing values in the data\")"
      ],
      "execution_count": 0,
      "outputs": [
        {
          "output_type": "stream",
          "text": [
            "there are 3 missing values in the data\n"
          ],
          "name": "stdout"
        }
      ]
    },
    {
      "cell_type": "markdown",
      "metadata": {
        "id": "u0t4aEENgKip",
        "colab_type": "text"
      },
      "source": [
        "**Preprocessing Part 2: Label Encoding**"
      ]
    },
    {
      "cell_type": "code",
      "metadata": {
        "id": "013yXlbAKhTY",
        "colab_type": "code",
        "colab": {}
      },
      "source": [
        "#label encoding for object data types in the data\n",
        "\n",
        "from sklearn.preprocessing import LabelEncoder\n",
        "\n",
        "#initialising labelencoder to a variable 'encoder'\n",
        "encoder = LabelEncoder()\n",
        "\n",
        "#label_encoding by iteration method\n",
        "for col in Air_delay.columns:\n",
        "  if Air_delay[col].dtype == 'object':\n",
        "    Air_delay[col] = encoder.fit_transform(Air_delay[col].astype(str))\n",
        "\n",
        "#label_encoding has been completed successfully\n"
      ],
      "execution_count": 0,
      "outputs": []
    },
    {
      "cell_type": "markdown",
      "metadata": {
        "id": "US-BEVE2gYw-",
        "colab_type": "text"
      },
      "source": [
        "**Defining Dependant variable 'y' and independant variables 'X'**"
      ]
    },
    {
      "cell_type": "code",
      "metadata": {
        "id": "V4YdpXIyOCYo",
        "colab_type": "code",
        "outputId": "9098b535-b118-4932-f1a3-e83a27fa7454",
        "colab": {
          "base_uri": "https://localhost:8080/",
          "height": 274
        }
      },
      "source": [
        "#before making splitting taking a look at data information from very first cell\n",
        "#there are 30 variables in our data and our target variable is 'LateAircraftDelay' which is at 30th position\n",
        "\n",
        "#importing numpy library\n",
        "import numpy as np\n",
        "\n",
        "#converting Air_delay data into a pandas dataframe for convenience\n",
        "new_data = pd.DataFrame(Air_delay)\n",
        "\n",
        "#stating independant variables 'X' and dependant(target) variable 'y'\n",
        "X = Air_delay.loc[:,'Year':'SecurityDelay']\n",
        "y = new_data['LateAircraftDelay']\n",
        "\n",
        "#verification of X and y variable initialization\n",
        "print(X.head())\n",
        "print(y.head())\n"
      ],
      "execution_count": 0,
      "outputs": [
        {
          "output_type": "stream",
          "text": [
            "   Year  Month  DayofMonth  ...  WeatherDelay   NASDelay  SecurityDelay\n",
            "0  2008      1           3  ...      3.954522  14.195239       0.107739\n",
            "1  2008      1           3  ...      3.954522  14.195239       0.107739\n",
            "2  2008      1           3  ...      3.954522  14.195239       0.107739\n",
            "3  2008      1           3  ...      0.000000   0.000000       0.000000\n",
            "4  2008      1           3  ...      3.954522  14.195239       0.107739\n",
            "\n",
            "[5 rows x 28 columns]\n",
            "0    28.301651\n",
            "1    28.301651\n",
            "2    28.301651\n",
            "3    32.000000\n",
            "4    28.301651\n",
            "Name: LateAircraftDelay, dtype: float64\n"
          ],
          "name": "stdout"
        }
      ]
    },
    {
      "cell_type": "markdown",
      "metadata": {
        "id": "gi1TwGjRgurV",
        "colab_type": "text"
      },
      "source": [
        "**Splitting the data into Training set and Testing set**"
      ]
    },
    {
      "cell_type": "code",
      "metadata": {
        "id": "96jOgcbMmxqP",
        "colab_type": "code",
        "colab": {}
      },
      "source": [
        "#importing train test split\n",
        "from sklearn.model_selection import train_test_split\n",
        "\n",
        "X_train,X_test,y_train,y_test = train_test_split(X,y, test_size = 0.25, random_state = 42)\n"
      ],
      "execution_count": 0,
      "outputs": []
    },
    {
      "cell_type": "markdown",
      "metadata": {
        "id": "dlTAPV0yg0b7",
        "colab_type": "text"
      },
      "source": [
        "**Importing Linear Regression model**"
      ]
    },
    {
      "cell_type": "code",
      "metadata": {
        "id": "BFIlmNzZnBz7",
        "colab_type": "code",
        "colab": {}
      },
      "source": [
        "from sklearn.linear_model import LinearRegression\n",
        "\n",
        "#assigning linear regression to a variable named 'model'\n",
        "model = LinearRegression()\n"
      ],
      "execution_count": 0,
      "outputs": []
    },
    {
      "cell_type": "markdown",
      "metadata": {
        "id": "-3Gw992Vg6FI",
        "colab_type": "text"
      },
      "source": [
        "**Fitting the Training data in the model**"
      ]
    },
    {
      "cell_type": "code",
      "metadata": {
        "id": "60JPo3xWoAOi",
        "colab_type": "code",
        "outputId": "1a0c0d9e-f433-4022-9e56-a46f2d512763",
        "colab": {
          "base_uri": "https://localhost:8080/",
          "height": 54
        }
      },
      "source": [
        "model.fit(X_train, y_train)\n",
        "\n",
        "#making prediction with test data y_train\n",
        "y_pred = model.predict(X_test)\n",
        "\n",
        "print(y_pred)\n"
      ],
      "execution_count": 0,
      "outputs": [
        {
          "output_type": "stream",
          "text": [
            "[ 2.15964545 67.94037603 25.50725124 ... 34.14976859 31.62878729\n",
            "  2.04491197]\n"
          ],
          "name": "stdout"
        }
      ]
    },
    {
      "cell_type": "markdown",
      "metadata": {
        "id": "HCz9z2nchDgm",
        "colab_type": "text"
      },
      "source": [
        "**Testing the model performance by measuring mean squared error**"
      ]
    },
    {
      "cell_type": "code",
      "metadata": {
        "id": "Vzm_USZGos1h",
        "colab_type": "code",
        "outputId": "ab0f5e58-9d5c-4d9b-cd55-d6346604e224",
        "colab": {
          "base_uri": "https://localhost:8080/",
          "height": 35
        }
      },
      "source": [
        "#importing mean_squared_error from sklearn\n",
        "\n",
        "from sklearn.metrics import mean_squared_error\n",
        "\n",
        "#measuring difference between acrual values and predicted values\n",
        "error = mean_squared_error(y_test,y_pred)\n",
        "\n",
        "print(error)"
      ],
      "execution_count": 0,
      "outputs": [
        {
          "output_type": "stream",
          "text": [
            "441.3890336614748\n"
          ],
          "name": "stdout"
        }
      ]
    },
    {
      "cell_type": "code",
      "metadata": {
        "id": "v9slxb5Kojmz",
        "colab_type": "code",
        "colab": {}
      },
      "source": [
        ""
      ],
      "execution_count": 0,
      "outputs": []
    }
  ]
}