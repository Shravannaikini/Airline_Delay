{
  "nbformat": 4,
  "nbformat_minor": 0,
  "metadata": {
    "colab": {
      "name": "Arrival_delay_prediction_analysis.ipynb",
      "provenance": [],
      "collapsed_sections": [],
      "toc_visible": true
    },
    "kernelspec": {
      "name": "python3",
      "display_name": "Python 3"
    }
  },
  "cells": [
    {
      "cell_type": "markdown",
      "metadata": {
        "id": "VfnvMW1lqcFq",
        "colab_type": "text"
      },
      "source": [
        "#**Aircraft Arrival Delay Prediction Analysis**"
      ]
    },
    {
      "cell_type": "markdown",
      "metadata": {
        "id": "mcjyIecoqxq0",
        "colab_type": "text"
      },
      "source": [
        "**In this Ipnyb notebook a rough aircraft arrival delay will be estimated with the help of aviation data available in year 2008.** "
      ]
    },
    {
      "cell_type": "markdown",
      "metadata": {
        "id": "a8ANcXBorVS8",
        "colab_type": "text"
      },
      "source": [
        "###**Importing data and several libraries**\n",
        "\n",
        "In this code section the importing of aviation data and other important libraries like pandas will be carried out."
      ]
    },
    {
      "cell_type": "code",
      "metadata": {
        "id": "7ulQBDikreVJ",
        "colab_type": "code",
        "colab": {
          "base_uri": "https://localhost:8080/",
          "height": 164
        },
        "outputId": "edf542b3-bf08-428a-8512-3b25cb8453a4"
      },
      "source": [
        "import numpy as np\n",
        "import pandas as pd\n",
        "\n",
        "#importing data\n",
        "data = pd.read_csv(\"/content/drive/My Drive/Datasets_csv/DelayedFlights.csv\")\n",
        "\n",
        "#converting imported data into a DataFrame\n",
        "df = pd.DataFrame(data)\n",
        "\n",
        "#printing the first five rows of the DataFrame for verification\n",
        "print(df.head())"
      ],
      "execution_count": 2,
      "outputs": [
        {
          "output_type": "stream",
          "text": [
            "   Unnamed: 0  Year  Month  ...  NASDelay  SecurityDelay  LateAircraftDelay\n",
            "0           0  2008      1  ...       NaN            NaN                NaN\n",
            "1           1  2008      1  ...       NaN            NaN                NaN\n",
            "2           2  2008      1  ...       NaN            NaN                NaN\n",
            "3           4  2008      1  ...       0.0            0.0               32.0\n",
            "4           5  2008      1  ...       NaN            NaN                NaN\n",
            "\n",
            "[5 rows x 30 columns]\n"
          ],
          "name": "stdout"
        }
      ]
    },
    {
      "cell_type": "markdown",
      "metadata": {
        "id": "n8PTO84Msrm5",
        "colab_type": "text"
      },
      "source": [
        "##**Exploratory Data Analysis**\n",
        "\n",
        "In this code section below. Having a brief look at the data and its attributes"
      ]
    },
    {
      "cell_type": "code",
      "metadata": {
        "id": "0LxcuaBftAEq",
        "colab_type": "code",
        "colab": {
          "base_uri": "https://localhost:8080/",
          "height": 201
        },
        "outputId": "8f7135ff-a33e-491d-9c49-c149aa6e0870"
      },
      "source": [
        "#Investigating number of columns and column names\n",
        "print(\"DataFrame columns: \\n\",df.columns)\n",
        "\n",
        "#total number of columns in the data\n",
        "print(\"\\nthere are to total number of \",str(len(df.columns)),\" features in the Dataframe\")"
      ],
      "execution_count": 7,
      "outputs": [
        {
          "output_type": "stream",
          "text": [
            "DataFrame columns: \n",
            " Index(['Unnamed: 0', 'Year', 'Month', 'DayofMonth', 'DayOfWeek', 'DepTime',\n",
            "       'CRSDepTime', 'ArrTime', 'CRSArrTime', 'UniqueCarrier', 'FlightNum',\n",
            "       'TailNum', 'ActualElapsedTime', 'CRSElapsedTime', 'AirTime', 'ArrDelay',\n",
            "       'DepDelay', 'Origin', 'Dest', 'Distance', 'TaxiIn', 'TaxiOut',\n",
            "       'Cancelled', 'CancellationCode', 'Diverted', 'CarrierDelay',\n",
            "       'WeatherDelay', 'NASDelay', 'SecurityDelay', 'LateAircraftDelay'],\n",
            "      dtype='object')\n",
            "\n",
            "there are to total number of  30  features in the Dataframe\n"
          ],
          "name": "stdout"
        }
      ]
    },
    {
      "cell_type": "markdown",
      "metadata": {
        "id": "AxDp7Bmut37K",
        "colab_type": "text"
      },
      "source": [
        "###**Feature Selection and Engineering**\n",
        "\n",
        "*Feature selection is one of the important aspects of data cleaning. Unnecessary junk features create noise in data which diverts the model from achieving good accuracy. For making prediction analysis of any kind of data, It is important to keep in mind that it is required to give input features for model to predict output. Since there are 30 columns in the Data, the project objective is to predict arrival delay of the aircraft. From the remaining 29 features as 'ArrDelay' is going to the target feature in this project, I have opted to select 'Month', DayofMonth', DayofWeek', 'CRSDeptTime','CRSArrTime', 'UniqueCarrier', 'ArrDelay', 'Origin', 'Dest'. Since these are the only input a basic user can give. All other features of the data depends on other facts like weather, aircraft, traffic etc.*\n"
      ]
    },
    {
      "cell_type": "code",
      "metadata": {
        "id": "VO8M0NAEwSTW",
        "colab_type": "code",
        "colab": {
          "base_uri": "https://localhost:8080/",
          "height": 72
        },
        "outputId": "2e42352d-4e19-49a6-d615-8f19a34069c1"
      },
      "source": [
        "#removing unnecessary features from the DataFrame and assigning to a new variable\n",
        "new_df = df.drop(['Unnamed: 0', 'Year', 'DepTime', 'ArrTime','FlightNum',\n",
        "       'TailNum', 'ActualElapsedTime', 'CRSElapsedTime', 'AirTime',\n",
        "       'DepDelay', 'Distance', 'TaxiIn', 'TaxiOut',\n",
        "       'Cancelled', 'CancellationCode', 'Diverted', 'CarrierDelay',\n",
        "       'WeatherDelay', 'NASDelay', 'SecurityDelay', 'LateAircraftDelay'], axis=1)\n",
        "\n",
        "#veryfying the feature removal operation.\n",
        "print(new_df.columns)\n",
        "\n",
        "\n"
      ],
      "execution_count": 9,
      "outputs": [
        {
          "output_type": "stream",
          "text": [
            "Index(['Month', 'DayofMonth', 'DayOfWeek', 'CRSDepTime', 'CRSArrTime',\n",
            "       'UniqueCarrier', 'ArrDelay', 'Origin', 'Dest'],\n",
            "      dtype='object')\n"
          ],
          "name": "stdout"
        }
      ]
    },
    {
      "cell_type": "markdown",
      "metadata": {
        "id": "LEAS_qEXx9xZ",
        "colab_type": "text"
      },
      "source": [
        "###**Exploring the partially cleaned Data**\n",
        "\n",
        "Exploring the statistical summary and other information of the new_df data"
      ]
    },
    {
      "cell_type": "code",
      "metadata": {
        "id": "m-gsuSJpyTgO",
        "colab_type": "code",
        "colab": {
          "base_uri": "https://localhost:8080/",
          "height": 531
        },
        "outputId": "73bd0286-2249-4896-9975-46e5c980d49d"
      },
      "source": [
        "#statistical summary of the data\n",
        "print(\"Statistical summary of new_df: \\n\", new_df.describe())\n",
        "\n",
        "#columnwise data types information\n",
        "print(\"Data types of the new_df: \\n\", new_df.info())"
      ],
      "execution_count": 10,
      "outputs": [
        {
          "output_type": "stream",
          "text": [
            "Statistical summary of new_df: \n",
            "               Month    DayofMonth  ...    CRSArrTime      ArrDelay\n",
            "count  1.048575e+06  1.048575e+06  ...  1.048575e+06  1.044679e+06\n",
            "mean   3.385121e+00  1.542589e+01  ...  1.632411e+03  4.218257e+01\n",
            "std    1.700650e+00  8.852621e+00  ...  4.653917e+02  5.577485e+01\n",
            "min    1.000000e+00  1.000000e+00  ...  0.000000e+00 -6.900000e+01\n",
            "25%    2.000000e+00  8.000000e+00  ...  1.324000e+03  9.000000e+00\n",
            "50%    3.000000e+00  1.500000e+01  ...  1.705000e+03  2.500000e+01\n",
            "75%    5.000000e+00  2.300000e+01  ...  2.014000e+03  5.600000e+01\n",
            "max    6.000000e+00  3.100000e+01  ...  2.400000e+03  2.461000e+03\n",
            "\n",
            "[8 rows x 6 columns]\n",
            "<class 'pandas.core.frame.DataFrame'>\n",
            "RangeIndex: 1048575 entries, 0 to 1048574\n",
            "Data columns (total 9 columns):\n",
            "Month            1048575 non-null int64\n",
            "DayofMonth       1048575 non-null int64\n",
            "DayOfWeek        1048575 non-null int64\n",
            "CRSDepTime       1048575 non-null int64\n",
            "CRSArrTime       1048575 non-null int64\n",
            "UniqueCarrier    1048575 non-null object\n",
            "ArrDelay         1044679 non-null float64\n",
            "Origin           1048575 non-null object\n",
            "Dest             1048575 non-null object\n",
            "dtypes: float64(1), int64(5), object(3)\n",
            "memory usage: 72.0+ MB\n",
            "Data types of the new_df: \n",
            " None\n"
          ],
          "name": "stdout"
        }
      ]
    },
    {
      "cell_type": "markdown",
      "metadata": {
        "id": "wWKXCgYEyrBh",
        "colab_type": "text"
      },
      "source": [
        "###**Searching for missing values in new_df**\n",
        "\n",
        "Missing values are potential to create noise. They need to be removed or filled to achieve good accuracy. "
      ]
    },
    {
      "cell_type": "code",
      "metadata": {
        "id": "Y7iuYxkHy-oI",
        "colab_type": "code",
        "colab": {
          "base_uri": "https://localhost:8080/",
          "height": 219
        },
        "outputId": "f9dff677-1dad-49ae-d176-a826349fe586"
      },
      "source": [
        "#columnwise missing values information.\n",
        "\n",
        "print(\"Columnwise missing values information\\n\")\n",
        "for col in new_df.columns:\n",
        "  print(col, new_df[col].isnull().values.sum())"
      ],
      "execution_count": 13,
      "outputs": [
        {
          "output_type": "stream",
          "text": [
            "Columnwise missing values information\n",
            "\n",
            "Month 0\n",
            "DayofMonth 0\n",
            "DayOfWeek 0\n",
            "CRSDepTime 0\n",
            "CRSArrTime 0\n",
            "UniqueCarrier 0\n",
            "ArrDelay 3896\n",
            "Origin 0\n",
            "Dest 0\n"
          ],
          "name": "stdout"
        }
      ]
    },
    {
      "cell_type": "markdown",
      "metadata": {
        "id": "3Yy0YIfYzg-C",
        "colab_type": "text"
      },
      "source": [
        "#####as it is observed that 'ArrDelay' contains 3896 missing records. 3896 is a very small ratio in 1048575 records. They can be removed with no hesitation."
      ]
    },
    {
      "cell_type": "code",
      "metadata": {
        "id": "HrxqQflZzWYZ",
        "colab_type": "code",
        "colab": {
          "base_uri": "https://localhost:8080/",
          "height": 219
        },
        "outputId": "410447be-4273-4e00-8a68-9fdc0a27804c"
      },
      "source": [
        "#removing the rows which contains null 'ArrDelay' records.\n",
        "new_df = new_df[~pd.isnull(new_df).any(axis=1)]\n",
        "\n",
        "for col in new_df.columns:\n",
        "  print(col, new_df[col].isnull().values.sum())\n",
        "#veryfying the last operation\n",
        "print(\"\\nthere are\", str(new_df.isnull().values.sum()), \" missing values in the data\")"
      ],
      "execution_count": 15,
      "outputs": [
        {
          "output_type": "stream",
          "text": [
            "Month 0\n",
            "DayofMonth 0\n",
            "DayOfWeek 0\n",
            "CRSDepTime 0\n",
            "CRSArrTime 0\n",
            "UniqueCarrier 0\n",
            "ArrDelay 0\n",
            "Origin 0\n",
            "Dest 0\n",
            "\n",
            "there are 0  missing values in the data\n"
          ],
          "name": "stdout"
        }
      ]
    },
    {
      "cell_type": "markdown",
      "metadata": {
        "id": "ymWYE6NX1Zwh",
        "colab_type": "text"
      },
      "source": [
        "###**Identyfying the total number of aiports in the data**\n",
        "\n",
        "In the code section below an operation which is aimed to identify the total number of unique airports so the information about number of airports employed in data analysis would get to know."
      ]
    },
    {
      "cell_type": "code",
      "metadata": {
        "id": "42nIcqdO176F",
        "colab_type": "code",
        "colab": {
          "base_uri": "https://localhost:8080/",
          "height": 129
        },
        "outputId": "5795dadb-c56b-4b46-f296-9b2dfd11978b"
      },
      "source": [
        "#airports list\n",
        "print(\"Available airports list: \\n\")\n",
        "\n",
        "#combining 'Origin' and 'Dest' dataframes\n",
        "airports = list(list(new_df['Origin'])+list(new_df['Dest']))\n",
        "\n",
        "#Extracting unique values from both 'Origin' and 'Dest' dataframes\n",
        "airports = list(pd.Series(airports).unique())\n",
        "print(airports)\n",
        "\n",
        "print(\"\\nThere are total number of\", len(airports) ,\"unique airports in the data\")\n"
      ],
      "execution_count": 29,
      "outputs": [
        {
          "output_type": "stream",
          "text": [
            "Available airports list: \n",
            "\n",
            "['IAD', 'IND', 'ISP', 'JAN', 'JAX', 'LAS', 'LAX', 'LBB', 'LIT', 'MAF', 'MCI', 'MCO', 'MDW', 'MHT', 'MSY', 'OAK', 'OKC', 'OMA', 'ONT', 'ORF', 'PBI', 'PDX', 'PHL', 'PHX', 'PIT', 'PVD', 'RDU', 'RNO', 'RSW', 'SAN', 'SAT', 'SDF', 'SEA', 'SFO', 'SJC', 'SLC', 'SMF', 'SNA', 'STL', 'TPA', 'TUL', 'TUS', 'ABQ', 'ALB', 'AMA', 'AUS', 'BDL', 'BHM', 'BNA', 'BOI', 'BUF', 'BUR', 'BWI', 'CLE', 'CMH', 'CRP', 'DAL', 'DEN', 'DTW', 'ELP', 'FLL', 'GEG', 'HOU', 'HRL', 'ROC', 'ORD', 'EWR', 'SYR', 'IAH', 'CRW', 'FAT', 'COS', 'MRY', 'LGB', 'BFL', 'EUG', 'ICT', 'MEM', 'BTV', 'MKE', 'LFT', 'BRO', 'PWM', 'MSP', 'SRQ', 'CLT', 'CVG', 'GSO', 'SHV', 'DCA', 'TYS', 'GSP', 'RIC', 'DFW', 'BGR', 'DAY', 'GRR', 'CHS', 'CAE', 'TLH', 'XNA', 'GPT', 'VPS', 'LGA', 'ATL', 'MSN', 'SAV', 'BTR', 'LEX', 'LRD', 'MOB', 'MTJ', 'GRK', 'AEX', 'PNS', 'ABE', 'HSV', 'CHA', 'MFE', 'MLU', 'DSM', 'MGM', 'AVL', 'LCH', 'BOS', 'MYR', 'CLL', 'DAB', 'ASE', 'ATW', 'BMI', 'CAK', 'CID', 'CPR', 'EGE', 'FLG', 'FSD', 'FWA', 'GJT', 'GRB', 'HNL', 'KOA', 'LAN', 'LIH', 'MBS', 'MDT', 'MFR', 'OGG', 'PSP', 'RAP', 'ROA', 'SBA', 'SBN', 'SPI', 'TEX', 'YUM', 'AVP', 'CWA', 'DRO', 'ILM', 'ITO', 'JFK', 'TVC', 'HDN', 'SBP', 'CLD', 'HPN', 'MIA', 'SGF', 'TRI', 'SUN', 'SGU', 'SLE', 'MSO', 'BZN', 'YKM', 'GTF', 'BIL', 'JAC', 'MOD', 'FAR', 'GUC', 'AZO', 'PIA', 'MLI', 'LNK', 'FCA', 'IDA', 'BIS', 'PSC', 'COD', 'TWF', 'RDM', 'HLN', 'RDD', 'PIH', 'EKO', 'LWS', 'SMX', 'ACV', 'OXR', 'CEC', 'CIC', 'PMD', 'RFD', 'BTM', 'IYK', 'IPL', 'BLI', 'CDC', 'SJU', 'STT', 'ANC', 'STX', 'MLB', 'PHF', 'PFN', 'FAY', 'AGS', 'GNV', 'ABY', 'DHN', 'EVV', 'FNT', 'OAJ', 'TOL', 'SWF', 'EWN', 'MEI', 'GTR', 'LYH', 'HHH', 'EYW', 'VLD', 'CSG', 'ACY', 'FSM', 'MCN', 'CHO', 'FLO', 'BQK', 'SCE', 'TUP', 'TYR', 'LAW', 'SPS', 'ABI', 'GGG', 'ACT', 'SJT', 'TXK', 'CMI', 'ROW', 'RST', 'MQT', 'LSE', 'DBQ', 'GFK', 'MOT', 'DLH', 'SUX', 'PLN', 'BGM', 'ERI', 'ALO', 'CMX', 'RHI', 'ELM', 'JNU', 'KTN', 'SIT', 'PSG', 'CDV', 'YAK', 'BRW', 'OME', 'OTZ', 'BET', 'FAI', 'SCC', 'ADQ', 'WRG', 'ADK', 'PSE', 'BQN', 'BPT', 'RKS', 'GCC', 'MKG', 'DLG', 'AKN', 'LWB', 'ACK', 'WYS', 'BJI', 'INL']\n",
            "\n",
            "There are total number of 296 unique airports in the data\n"
          ],
          "name": "stdout"
        }
      ]
    },
    {
      "cell_type": "markdown",
      "metadata": {
        "id": "-UqvQVP24ojX",
        "colab_type": "text"
      },
      "source": [
        "Airports have unique codes for identity. I have attached a airports codes and names csv file for the reference. "
      ]
    },
    {
      "cell_type": "markdown",
      "metadata": {
        "id": "NI3fFHwT42n0",
        "colab_type": "text"
      },
      "source": [
        "###**Identifying Independant and Dependant variables. i.e. stating target variable**. "
      ]
    },
    {
      "cell_type": "code",
      "metadata": {
        "id": "CcVdqSEl5KrT",
        "colab_type": "code",
        "colab": {
          "base_uri": "https://localhost:8080/",
          "height": 293
        },
        "outputId": "f115cbca-4e9c-46eb-d5ee-14986336d273"
      },
      "source": [
        "y = new_df['ArrDelay']\n",
        "X = new_df.drop(['ArrDelay'], axis=1)\n",
        "\n",
        "#verifying operation\n",
        "print(y.head())\n",
        "print(\"\\n\",X.head())"
      ],
      "execution_count": 31,
      "outputs": [
        {
          "output_type": "stream",
          "text": [
            "0   -14.0\n",
            "1     2.0\n",
            "2    14.0\n",
            "3    34.0\n",
            "4    11.0\n",
            "Name: ArrDelay, dtype: float64\n",
            "\n",
            "    Month  DayofMonth  DayOfWeek  ...  UniqueCarrier  Origin Dest\n",
            "0      1           3          4  ...             WN     IAD  TPA\n",
            "1      1           3          4  ...             WN     IAD  TPA\n",
            "2      1           3          4  ...             WN     IND  BWI\n",
            "3      1           3          4  ...             WN     IND  BWI\n",
            "4      1           3          4  ...             WN     IND  JAX\n",
            "\n",
            "[5 rows x 8 columns]\n"
          ],
          "name": "stdout"
        }
      ]
    },
    {
      "cell_type": "markdown",
      "metadata": {
        "id": "y20bVsk46Ho4",
        "colab_type": "text"
      },
      "source": [
        "###**One hot label Encoding**\n",
        "\n",
        "Since there are categorical variables in the data. It is important to label encode them for achieving greater accuracy of the model. "
      ]
    },
    {
      "cell_type": "code",
      "metadata": {
        "id": "HsUcxvXA1YQ8",
        "colab_type": "code",
        "colab": {
          "base_uri": "https://localhost:8080/",
          "height": 127
        },
        "outputId": "f5aa4865-2a5e-4864-c3ed-6294bf465767"
      },
      "source": [
        "#ordinal label encoding\n",
        "\n",
        "cats = ['Month', 'DayofMonth', 'DayOfWeek', 'CRSDepTime', 'CRSArrTime', 'UniqueCarrier' ,'Origin','Dest']\n",
        "\n",
        "for feature in X[cats]:\n",
        "  X[feature] = pd.Categorical(X[feature]).codes\n",
        "\n",
        "#label encoding has completed successfully. to ensure this operation having a look at\n",
        "#'UniqueCarrier' variable to see whether the data has label encoded or not.\n",
        "\n",
        "print(X['UniqueCarrier'].head())"
      ],
      "execution_count": 33,
      "outputs": [
        {
          "output_type": "stream",
          "text": [
            "0    17\n",
            "1    17\n",
            "2    17\n",
            "3    17\n",
            "4    17\n",
            "Name: UniqueCarrier, dtype: int8\n"
          ],
          "name": "stdout"
        }
      ]
    },
    {
      "cell_type": "markdown",
      "metadata": {
        "id": "uq926FPmA15J",
        "colab_type": "text"
      },
      "source": [
        "###**Splitting the Data into Training set and Testing set**\n",
        "\n",
        "In this code section data will be splitted into traing and testing set "
      ]
    },
    {
      "cell_type": "code",
      "metadata": {
        "id": "5w7M24rKBLoS",
        "colab_type": "code",
        "colab": {
          "base_uri": "https://localhost:8080/",
          "height": 164
        },
        "outputId": "527933a4-50c0-4b4e-ec37-f1851235eae3"
      },
      "source": [
        "#importing train_test_split\n",
        "from sklearn.model_selection import train_test_split\n",
        "X_train,X_test,y_train,y_test = train_test_split(X,y,test_size = 0.33, random_state = 42)\n",
        "\n",
        "print(X_train.head())"
      ],
      "execution_count": 34,
      "outputs": [
        {
          "output_type": "stream",
          "text": [
            "        Month  DayofMonth  DayOfWeek  ...  UniqueCarrier  Origin  Dest\n",
            "301730      1          25          1  ...              9      18   218\n",
            "135031      0          10          4  ...             12     289   177\n",
            "376046      2           5          3  ...             17     129   131\n",
            "345040      1           0          4  ...              1     278   182\n",
            "114179      0          19          6  ...              9     173   175\n",
            "\n",
            "[5 rows x 8 columns]\n"
          ],
          "name": "stdout"
        }
      ]
    },
    {
      "cell_type": "markdown",
      "metadata": {
        "id": "n8aZrhIUBrFj",
        "colab_type": "text"
      },
      "source": [
        "###**Importing Xgboost model to train and test the data**\n",
        "\n",
        "This step involves in training and testing the model performance. Xgboost model has been employed I found the this model is performing slightly better than LinearRegression."
      ]
    },
    {
      "cell_type": "code",
      "metadata": {
        "id": "Xle8ILdSCKXh",
        "colab_type": "code",
        "colab": {}
      },
      "source": [
        "#importing model\n",
        "from xgboost import XGBRegressor\n",
        "xgb = XGBRegressor()\n",
        "\n",
        "#importing scipy stats\n",
        "import scipy.stats as st\n",
        "\n",
        "#to avoid warning while training the data.\n",
        "import warnings\n",
        "warnings.filterwarnings('ignore')\n",
        "\n",
        "one_to_left = st.beta(10, 1)  \n",
        "from_zero_positive = st.expon(0, 50)\n",
        "\n",
        "#defining decent parameters to achieve accuracy\n",
        "params = {  \n",
        "    \"n_estimators\": st.randint(3, 40),\n",
        "    \"max_depth\": st.randint(3, 40),\n",
        "    \"learning_rate\": st.uniform(0.05, 0.4),\n",
        "    \"colsample_bytree\": one_to_left,\n",
        "    \"subsample\": one_to_left,\n",
        "    \"gamma\": st.uniform(0, 10),\n",
        "    'reg_alpha': from_zero_positive,\n",
        "    \"min_child_weight\": from_zero_positive\n",
        "}\n"
      ],
      "execution_count": 0,
      "outputs": []
    },
    {
      "cell_type": "code",
      "metadata": {
        "id": "_wNtFhbPBmLg",
        "colab_type": "code",
        "colab": {
          "base_uri": "https://localhost:8080/",
          "height": 643
        },
        "outputId": "684884a3-02b5-49e4-99a1-5bf81e56e382"
      },
      "source": [
        "#importing RandomizedSearchCv\n",
        "from sklearn.model_selection import RandomizedSearchCV\n",
        "\n",
        "#fitting the training data in the model. \n",
        "xgbreg = XGBRegressor(nthread=-1)\n",
        "rsCV = RandomizedSearchCV(xgbreg, params, n_jobs=1)  \n",
        "rsCV.fit(X_train, y_train)\n",
        "rsCV.best_params_, rsCV.best_score_\n",
        "\n",
        "clf = XGBRegressor(**rsCV.best_params_)\n",
        "clf.fit(X_train, y_train)\n",
        "\n",
        "#printing the Mean_Absolute_Error.\n",
        "from sklearn.metrics import mean_absolute_error\n",
        "print(\"MAE: %.4f\" % mean_absolute_error(y_test, clf.predict(X_test)))\n"
      ],
      "execution_count": 37,
      "outputs": [
        {
          "output_type": "stream",
          "text": [
            "[13:34:01] WARNING: /workspace/src/objective/regression_obj.cu:152: reg:linear is now deprecated in favor of reg:squarederror.\n",
            "[13:34:04] WARNING: /workspace/src/objective/regression_obj.cu:152: reg:linear is now deprecated in favor of reg:squarederror.\n",
            "[13:34:07] WARNING: /workspace/src/objective/regression_obj.cu:152: reg:linear is now deprecated in favor of reg:squarederror.\n",
            "[13:34:10] WARNING: /workspace/src/objective/regression_obj.cu:152: reg:linear is now deprecated in favor of reg:squarederror.\n",
            "[13:35:30] WARNING: /workspace/src/objective/regression_obj.cu:152: reg:linear is now deprecated in favor of reg:squarederror.\n",
            "[13:36:49] WARNING: /workspace/src/objective/regression_obj.cu:152: reg:linear is now deprecated in favor of reg:squarederror.\n",
            "[13:38:10] WARNING: /workspace/src/objective/regression_obj.cu:152: reg:linear is now deprecated in favor of reg:squarederror.\n",
            "[13:38:17] WARNING: /workspace/src/objective/regression_obj.cu:152: reg:linear is now deprecated in favor of reg:squarederror.\n",
            "[13:38:23] WARNING: /workspace/src/objective/regression_obj.cu:152: reg:linear is now deprecated in favor of reg:squarederror.\n",
            "[13:38:30] WARNING: /workspace/src/objective/regression_obj.cu:152: reg:linear is now deprecated in favor of reg:squarederror.\n",
            "[13:38:55] WARNING: /workspace/src/objective/regression_obj.cu:152: reg:linear is now deprecated in favor of reg:squarederror.\n",
            "[13:39:19] WARNING: /workspace/src/objective/regression_obj.cu:152: reg:linear is now deprecated in favor of reg:squarederror.\n",
            "[13:39:44] WARNING: /workspace/src/objective/regression_obj.cu:152: reg:linear is now deprecated in favor of reg:squarederror.\n",
            "[13:40:09] WARNING: /workspace/src/objective/regression_obj.cu:152: reg:linear is now deprecated in favor of reg:squarederror.\n",
            "[13:40:34] WARNING: /workspace/src/objective/regression_obj.cu:152: reg:linear is now deprecated in favor of reg:squarederror.\n",
            "[13:40:59] WARNING: /workspace/src/objective/regression_obj.cu:152: reg:linear is now deprecated in favor of reg:squarederror.\n",
            "[13:41:14] WARNING: /workspace/src/objective/regression_obj.cu:152: reg:linear is now deprecated in favor of reg:squarederror.\n",
            "[13:41:29] WARNING: /workspace/src/objective/regression_obj.cu:152: reg:linear is now deprecated in favor of reg:squarederror.\n",
            "[13:41:44] WARNING: /workspace/src/objective/regression_obj.cu:152: reg:linear is now deprecated in favor of reg:squarederror.\n",
            "[13:42:26] WARNING: /workspace/src/objective/regression_obj.cu:152: reg:linear is now deprecated in favor of reg:squarederror.\n",
            "[13:43:08] WARNING: /workspace/src/objective/regression_obj.cu:152: reg:linear is now deprecated in favor of reg:squarederror.\n",
            "[13:43:50] WARNING: /workspace/src/objective/regression_obj.cu:152: reg:linear is now deprecated in favor of reg:squarederror.\n",
            "[13:45:36] WARNING: /workspace/src/objective/regression_obj.cu:152: reg:linear is now deprecated in favor of reg:squarederror.\n",
            "[13:47:21] WARNING: /workspace/src/objective/regression_obj.cu:152: reg:linear is now deprecated in favor of reg:squarederror.\n",
            "[13:49:07] WARNING: /workspace/src/objective/regression_obj.cu:152: reg:linear is now deprecated in favor of reg:squarederror.\n",
            "[13:50:12] WARNING: /workspace/src/objective/regression_obj.cu:152: reg:linear is now deprecated in favor of reg:squarederror.\n",
            "[13:51:17] WARNING: /workspace/src/objective/regression_obj.cu:152: reg:linear is now deprecated in favor of reg:squarederror.\n",
            "[13:52:22] WARNING: /workspace/src/objective/regression_obj.cu:152: reg:linear is now deprecated in favor of reg:squarederror.\n",
            "[13:53:02] WARNING: /workspace/src/objective/regression_obj.cu:152: reg:linear is now deprecated in favor of reg:squarederror.\n",
            "[13:53:43] WARNING: /workspace/src/objective/regression_obj.cu:152: reg:linear is now deprecated in favor of reg:squarederror.\n",
            "[13:54:24] WARNING: /workspace/src/objective/regression_obj.cu:152: reg:linear is now deprecated in favor of reg:squarederror.\n",
            "[13:55:58] WARNING: /workspace/src/objective/regression_obj.cu:152: reg:linear is now deprecated in favor of reg:squarederror.\n",
            "MAE: 31.0649\n"
          ],
          "name": "stdout"
        }
      ]
    },
    {
      "cell_type": "markdown",
      "metadata": {
        "id": "Rnw5JGamKSR_",
        "colab_type": "text"
      },
      "source": [
        "##**Reports**\n",
        "\n",
        "With mean absolute error ~31 minutes is not a great case. with the limitaions of the data, The results are better one."
      ]
    },
    {
      "cell_type": "code",
      "metadata": {
        "id": "0YQePnfgKxPJ",
        "colab_type": "code",
        "colab": {}
      },
      "source": [
        ""
      ],
      "execution_count": 0,
      "outputs": []
    }
  ]
}